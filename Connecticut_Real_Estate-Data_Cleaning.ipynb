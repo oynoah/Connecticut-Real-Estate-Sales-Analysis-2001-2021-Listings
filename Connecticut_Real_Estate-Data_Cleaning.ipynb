{
 "cells": [
  {
   "cell_type": "code",
   "execution_count": 15,
   "metadata": {},
   "outputs": [],
   "source": [
    "import pandas as pd"
   ]
  },
  {
   "cell_type": "code",
   "execution_count": 16,
   "metadata": {},
   "outputs": [
    {
     "data": {
      "text/html": [
       "<div>\n",
       "<style scoped>\n",
       "    .dataframe tbody tr th:only-of-type {\n",
       "        vertical-align: middle;\n",
       "    }\n",
       "\n",
       "    .dataframe tbody tr th {\n",
       "        vertical-align: top;\n",
       "    }\n",
       "\n",
       "    .dataframe thead th {\n",
       "        text-align: right;\n",
       "    }\n",
       "</style>\n",
       "<table border=\"1\" class=\"dataframe\">\n",
       "  <thead>\n",
       "    <tr style=\"text-align: right;\">\n",
       "      <th></th>\n",
       "      <th>Serial Number</th>\n",
       "      <th>List Year</th>\n",
       "      <th>Date Recorded</th>\n",
       "      <th>Town</th>\n",
       "      <th>Address</th>\n",
       "      <th>Assessed Value</th>\n",
       "      <th>Sale Amount</th>\n",
       "      <th>Sales Ratio</th>\n",
       "      <th>Property Type</th>\n",
       "      <th>Residential Type</th>\n",
       "      <th>Non Use Code</th>\n",
       "      <th>Assessor Remarks</th>\n",
       "      <th>OPM remarks</th>\n",
       "      <th>Location</th>\n",
       "    </tr>\n",
       "  </thead>\n",
       "  <tbody>\n",
       "    <tr>\n",
       "      <th>0</th>\n",
       "      <td>2020348</td>\n",
       "      <td>2020</td>\n",
       "      <td>09/13/2021</td>\n",
       "      <td>Ansonia</td>\n",
       "      <td>230 WAKELEE AVE</td>\n",
       "      <td>150500.0</td>\n",
       "      <td>325000.0</td>\n",
       "      <td>0.4630</td>\n",
       "      <td>Commercial</td>\n",
       "      <td>NaN</td>\n",
       "      <td>NaN</td>\n",
       "      <td>NaN</td>\n",
       "      <td>NaN</td>\n",
       "      <td>NaN</td>\n",
       "    </tr>\n",
       "    <tr>\n",
       "      <th>1</th>\n",
       "      <td>20002</td>\n",
       "      <td>2020</td>\n",
       "      <td>10/02/2020</td>\n",
       "      <td>Ashford</td>\n",
       "      <td>390 TURNPIKE RD</td>\n",
       "      <td>253000.0</td>\n",
       "      <td>430000.0</td>\n",
       "      <td>0.5883</td>\n",
       "      <td>Residential</td>\n",
       "      <td>Single Family</td>\n",
       "      <td>NaN</td>\n",
       "      <td>NaN</td>\n",
       "      <td>NaN</td>\n",
       "      <td>NaN</td>\n",
       "    </tr>\n",
       "    <tr>\n",
       "      <th>2</th>\n",
       "      <td>210317</td>\n",
       "      <td>2021</td>\n",
       "      <td>07/05/2022</td>\n",
       "      <td>Avon</td>\n",
       "      <td>53 COTSWOLD WAY</td>\n",
       "      <td>329730.0</td>\n",
       "      <td>805000.0</td>\n",
       "      <td>0.4096</td>\n",
       "      <td>Residential</td>\n",
       "      <td>Single Family</td>\n",
       "      <td>NaN</td>\n",
       "      <td>NaN</td>\n",
       "      <td>NaN</td>\n",
       "      <td>POINT (-72.846365959 41.781677018)</td>\n",
       "    </tr>\n",
       "    <tr>\n",
       "      <th>3</th>\n",
       "      <td>200212</td>\n",
       "      <td>2020</td>\n",
       "      <td>03/09/2021</td>\n",
       "      <td>Avon</td>\n",
       "      <td>5 CHESTNUT DRIVE</td>\n",
       "      <td>130400.0</td>\n",
       "      <td>179900.0</td>\n",
       "      <td>0.7248</td>\n",
       "      <td>Residential</td>\n",
       "      <td>Condo</td>\n",
       "      <td>NaN</td>\n",
       "      <td>NaN</td>\n",
       "      <td>NaN</td>\n",
       "      <td>NaN</td>\n",
       "    </tr>\n",
       "    <tr>\n",
       "      <th>4</th>\n",
       "      <td>200243</td>\n",
       "      <td>2020</td>\n",
       "      <td>04/13/2021</td>\n",
       "      <td>Avon</td>\n",
       "      <td>111 NORTHINGTON DRIVE</td>\n",
       "      <td>619290.0</td>\n",
       "      <td>890000.0</td>\n",
       "      <td>0.6958</td>\n",
       "      <td>Residential</td>\n",
       "      <td>Single Family</td>\n",
       "      <td>NaN</td>\n",
       "      <td>NaN</td>\n",
       "      <td>NaN</td>\n",
       "      <td>NaN</td>\n",
       "    </tr>\n",
       "  </tbody>\n",
       "</table>\n",
       "</div>"
      ],
      "text/plain": [
       "   Serial Number  List Year Date Recorded     Town                Address  \\\n",
       "0        2020348       2020    09/13/2021  Ansonia        230 WAKELEE AVE   \n",
       "1          20002       2020    10/02/2020  Ashford        390 TURNPIKE RD   \n",
       "2         210317       2021    07/05/2022     Avon        53 COTSWOLD WAY   \n",
       "3         200212       2020    03/09/2021     Avon       5 CHESTNUT DRIVE   \n",
       "4         200243       2020    04/13/2021     Avon  111 NORTHINGTON DRIVE   \n",
       "\n",
       "   Assessed Value  Sale Amount  Sales Ratio Property Type Residential Type  \\\n",
       "0        150500.0     325000.0       0.4630    Commercial              NaN   \n",
       "1        253000.0     430000.0       0.5883   Residential    Single Family   \n",
       "2        329730.0     805000.0       0.4096   Residential    Single Family   \n",
       "3        130400.0     179900.0       0.7248   Residential            Condo   \n",
       "4        619290.0     890000.0       0.6958   Residential    Single Family   \n",
       "\n",
       "  Non Use Code Assessor Remarks OPM remarks  \\\n",
       "0          NaN              NaN         NaN   \n",
       "1          NaN              NaN         NaN   \n",
       "2          NaN              NaN         NaN   \n",
       "3          NaN              NaN         NaN   \n",
       "4          NaN              NaN         NaN   \n",
       "\n",
       "                             Location  \n",
       "0                                 NaN  \n",
       "1                                 NaN  \n",
       "2  POINT (-72.846365959 41.781677018)  \n",
       "3                                 NaN  \n",
       "4                                 NaN  "
      ]
     },
     "execution_count": 16,
     "metadata": {},
     "output_type": "execute_result"
    }
   ],
   "source": [
    "cres_df = pd.read_csv('Real_Estate_Sales_2001-2021_GL.csv', low_memory=False)\n",
    "cres_df.head()"
   ]
  },
  {
   "cell_type": "markdown",
   "metadata": {},
   "source": [
    "### Change column names to lower case and remove the whitespace"
   ]
  },
  {
   "cell_type": "code",
   "execution_count": 17,
   "metadata": {},
   "outputs": [
    {
     "name": "stdout",
     "output_type": "stream",
     "text": [
      "<class 'pandas.core.frame.DataFrame'>\n",
      "RangeIndex: 1054159 entries, 0 to 1054158\n",
      "Data columns (total 14 columns):\n",
      " #   Column            Non-Null Count    Dtype  \n",
      "---  ------            --------------    -----  \n",
      " 0   serial_number     1054159 non-null  int64  \n",
      " 1   list_year         1054159 non-null  int64  \n",
      " 2   date_recorded     1054157 non-null  object \n",
      " 3   town              1054159 non-null  object \n",
      " 4   address           1054108 non-null  object \n",
      " 5   assessed_value    1054159 non-null  float64\n",
      " 6   sale_amount       1054159 non-null  float64\n",
      " 7   sales_ratio       1054159 non-null  float64\n",
      " 8   property_type     671713 non-null   object \n",
      " 9   residential_type  660275 non-null   object \n",
      " 10  non_use_code      302242 non-null   object \n",
      " 11  assessor_remarks  161472 non-null   object \n",
      " 12  opm_remarks       11564 non-null    object \n",
      " 13  location          254643 non-null   object \n",
      "dtypes: float64(3), int64(2), object(9)\n",
      "memory usage: 112.6+ MB\n"
     ]
    }
   ],
   "source": [
    "cres_df.columns = (cres_df.columns\n",
    "                   .str.lower()\n",
    "                   .str.replace(' ','_')\n",
    "                   )\n",
    "cres_df.info()"
   ]
  },
  {
   "cell_type": "markdown",
   "metadata": {},
   "source": [
    "### Check for duplicate entries "
   ]
  },
  {
   "cell_type": "code",
   "execution_count": 18,
   "metadata": {},
   "outputs": [
    {
     "data": {
      "text/plain": [
       "963286"
      ]
     },
     "execution_count": 18,
     "metadata": {},
     "output_type": "execute_result"
    }
   ],
   "source": [
    "duplicates = (cres_df\n",
    "              .duplicated(['serial_number'])\n",
    "              .sum()\n",
    "              )\n",
    "duplicates"
   ]
  },
  {
   "cell_type": "code",
   "execution_count": 19,
   "metadata": {},
   "outputs": [
    {
     "name": "stdout",
     "output_type": "stream",
     "text": [
      "<class 'pandas.core.frame.DataFrame'>\n",
      "Index: 1054078 entries, 0 to 1054158\n",
      "Data columns (total 14 columns):\n",
      " #   Column            Non-Null Count    Dtype  \n",
      "---  ------            --------------    -----  \n",
      " 0   serial_number     1054078 non-null  int64  \n",
      " 1   list_year         1054078 non-null  int64  \n",
      " 2   date_recorded     1054076 non-null  object \n",
      " 3   town              1054078 non-null  object \n",
      " 4   address           1054032 non-null  object \n",
      " 5   assessed_value    1054078 non-null  float64\n",
      " 6   sale_amount       1054078 non-null  float64\n",
      " 7   sales_ratio       1054078 non-null  float64\n",
      " 8   property_type     671704 non-null   object \n",
      " 9   residential_type  660266 non-null   object \n",
      " 10  non_use_code      302197 non-null   object \n",
      " 11  assessor_remarks  161471 non-null   object \n",
      " 12  opm_remarks       11564 non-null    object \n",
      " 13  location          254639 non-null   object \n",
      "dtypes: float64(3), int64(2), object(9)\n",
      "memory usage: 120.6+ MB\n"
     ]
    }
   ],
   "source": [
    "## Drop duplicates\n",
    "cres_deduped = (cres_df\n",
    "                .drop_duplicates(['serial_number','address'])\n",
    "                )\n",
    "cres_deduped.info()"
   ]
  },
  {
   "cell_type": "markdown",
   "metadata": {},
   "source": [
    "### Check for null entries"
   ]
  },
  {
   "cell_type": "code",
   "execution_count": 20,
   "metadata": {},
   "outputs": [
    {
     "data": {
      "text/plain": [
       "serial_number             0\n",
       "list_year                 0\n",
       "date_recorded             2\n",
       "town                      0\n",
       "address                  46\n",
       "assessed_value            0\n",
       "sale_amount               0\n",
       "sales_ratio               0\n",
       "property_type        382374\n",
       "residential_type     393812\n",
       "non_use_code         751881\n",
       "assessor_remarks     892607\n",
       "opm_remarks         1042514\n",
       "location             799439\n",
       "dtype: int64"
      ]
     },
     "execution_count": 20,
     "metadata": {},
     "output_type": "execute_result"
    }
   ],
   "source": [
    "nulls = (cres_deduped\n",
    "         .isna()\n",
    "         .sum()\n",
    "         )\n",
    "nulls"
   ]
  },
  {
   "cell_type": "markdown",
   "metadata": {},
   "source": [
    "I'll only drop nulls in the `date_recorded` and `address`"
   ]
  },
  {
   "cell_type": "code",
   "execution_count": 21,
   "metadata": {},
   "outputs": [
    {
     "name": "stdout",
     "output_type": "stream",
     "text": [
      "<class 'pandas.core.frame.DataFrame'>\n",
      "Index: 1054032 entries, 0 to 1054158\n",
      "Data columns (total 14 columns):\n",
      " #   Column            Non-Null Count    Dtype  \n",
      "---  ------            --------------    -----  \n",
      " 0   serial_number     1054032 non-null  int64  \n",
      " 1   list_year         1054032 non-null  int64  \n",
      " 2   date_recorded     1054032 non-null  object \n",
      " 3   town              1054032 non-null  object \n",
      " 4   address           1054032 non-null  object \n",
      " 5   assessed_value    1054032 non-null  float64\n",
      " 6   sale_amount       1054032 non-null  float64\n",
      " 7   sales_ratio       1054032 non-null  float64\n",
      " 8   property_type     671700 non-null   object \n",
      " 9   residential_type  660262 non-null   object \n",
      " 10  non_use_code      302154 non-null   object \n",
      " 11  assessor_remarks  161470 non-null   object \n",
      " 12  opm_remarks       11564 non-null    object \n",
      " 13  location          254634 non-null   object \n",
      "dtypes: float64(3), int64(2), object(9)\n",
      "memory usage: 120.6+ MB\n"
     ]
    }
   ],
   "source": [
    "## Drop null values\n",
    "cres_denulled = cres_deduped.dropna(subset=['date_recorded', 'address'])\n",
    "cres_denulled.info()"
   ]
  },
  {
   "cell_type": "markdown",
   "metadata": {},
   "source": [
    "### Creating datasets based on the needs of analysis"
   ]
  },
  {
   "cell_type": "code",
   "execution_count": 22,
   "metadata": {},
   "outputs": [
    {
     "data": {
      "text/html": [
       "<div>\n",
       "<style scoped>\n",
       "    .dataframe tbody tr th:only-of-type {\n",
       "        vertical-align: middle;\n",
       "    }\n",
       "\n",
       "    .dataframe tbody tr th {\n",
       "        vertical-align: top;\n",
       "    }\n",
       "\n",
       "    .dataframe thead th {\n",
       "        text-align: right;\n",
       "    }\n",
       "</style>\n",
       "<table border=\"1\" class=\"dataframe\">\n",
       "  <thead>\n",
       "    <tr style=\"text-align: right;\">\n",
       "      <th></th>\n",
       "      <th>serial_number</th>\n",
       "      <th>list_year</th>\n",
       "      <th>date_recorded</th>\n",
       "      <th>town</th>\n",
       "      <th>address</th>\n",
       "      <th>assessed_value</th>\n",
       "      <th>sale_amount</th>\n",
       "      <th>sales_ratio</th>\n",
       "    </tr>\n",
       "  </thead>\n",
       "  <tbody>\n",
       "    <tr>\n",
       "      <th>0</th>\n",
       "      <td>2020348</td>\n",
       "      <td>2020</td>\n",
       "      <td>09/13/2021</td>\n",
       "      <td>Ansonia</td>\n",
       "      <td>230 WAKELEE AVE</td>\n",
       "      <td>150500.0</td>\n",
       "      <td>325000.0</td>\n",
       "      <td>0.4630</td>\n",
       "    </tr>\n",
       "    <tr>\n",
       "      <th>1</th>\n",
       "      <td>20002</td>\n",
       "      <td>2020</td>\n",
       "      <td>10/02/2020</td>\n",
       "      <td>Ashford</td>\n",
       "      <td>390 TURNPIKE RD</td>\n",
       "      <td>253000.0</td>\n",
       "      <td>430000.0</td>\n",
       "      <td>0.5883</td>\n",
       "    </tr>\n",
       "    <tr>\n",
       "      <th>2</th>\n",
       "      <td>210317</td>\n",
       "      <td>2021</td>\n",
       "      <td>07/05/2022</td>\n",
       "      <td>Avon</td>\n",
       "      <td>53 COTSWOLD WAY</td>\n",
       "      <td>329730.0</td>\n",
       "      <td>805000.0</td>\n",
       "      <td>0.4096</td>\n",
       "    </tr>\n",
       "    <tr>\n",
       "      <th>3</th>\n",
       "      <td>200212</td>\n",
       "      <td>2020</td>\n",
       "      <td>03/09/2021</td>\n",
       "      <td>Avon</td>\n",
       "      <td>5 CHESTNUT DRIVE</td>\n",
       "      <td>130400.0</td>\n",
       "      <td>179900.0</td>\n",
       "      <td>0.7248</td>\n",
       "    </tr>\n",
       "    <tr>\n",
       "      <th>4</th>\n",
       "      <td>200243</td>\n",
       "      <td>2020</td>\n",
       "      <td>04/13/2021</td>\n",
       "      <td>Avon</td>\n",
       "      <td>111 NORTHINGTON DRIVE</td>\n",
       "      <td>619290.0</td>\n",
       "      <td>890000.0</td>\n",
       "      <td>0.6958</td>\n",
       "    </tr>\n",
       "  </tbody>\n",
       "</table>\n",
       "</div>"
      ],
      "text/plain": [
       "   serial_number  list_year date_recorded     town                address  \\\n",
       "0        2020348       2020    09/13/2021  Ansonia        230 WAKELEE AVE   \n",
       "1          20002       2020    10/02/2020  Ashford        390 TURNPIKE RD   \n",
       "2         210317       2021    07/05/2022     Avon        53 COTSWOLD WAY   \n",
       "3         200212       2020    03/09/2021     Avon       5 CHESTNUT DRIVE   \n",
       "4         200243       2020    04/13/2021     Avon  111 NORTHINGTON DRIVE   \n",
       "\n",
       "   assessed_value  sale_amount  sales_ratio  \n",
       "0        150500.0     325000.0       0.4630  \n",
       "1        253000.0     430000.0       0.5883  \n",
       "2        329730.0     805000.0       0.4096  \n",
       "3        130400.0     179900.0       0.7248  \n",
       "4        619290.0     890000.0       0.6958  "
      ]
     },
     "execution_count": 22,
     "metadata": {},
     "output_type": "execute_result"
    }
   ],
   "source": [
    "## Select columns related to general sales \n",
    "sales_data = cres_denulled.iloc[:,:8]\n",
    "sales_data.head()"
   ]
  },
  {
   "cell_type": "code",
   "execution_count": 23,
   "metadata": {},
   "outputs": [
    {
     "name": "stdout",
     "output_type": "stream",
     "text": [
      "<class 'pandas.core.frame.DataFrame'>\n",
      "Index: 660262 entries, 1 to 1054157\n",
      "Data columns (total 6 columns):\n",
      " #   Column            Non-Null Count   Dtype  \n",
      "---  ------            --------------   -----  \n",
      " 0   serial_number     660262 non-null  int64  \n",
      " 1   date_recorded     660262 non-null  object \n",
      " 2   town              660262 non-null  object \n",
      " 3   property_type     660262 non-null  object \n",
      " 4   residential_type  660262 non-null  object \n",
      " 5   sale_amount       660262 non-null  float64\n",
      "dtypes: float64(1), int64(1), object(4)\n",
      "memory usage: 35.3+ MB\n"
     ]
    }
   ],
   "source": [
    "## Select columns related to property\n",
    "property_data = cres_denulled.iloc[:, [0,2,3,8,9,6]].dropna()\n",
    "property_data.info()"
   ]
  },
  {
   "cell_type": "code",
   "execution_count": 24,
   "metadata": {},
   "outputs": [
    {
     "name": "stdout",
     "output_type": "stream",
     "text": [
      "<class 'pandas.core.frame.DataFrame'>\n",
      "Index: 254634 entries, 2 to 1054152\n",
      "Data columns (total 3 columns):\n",
      " #   Column         Non-Null Count   Dtype  \n",
      "---  ------         --------------   -----  \n",
      " 0   date_recorded  254634 non-null  object \n",
      " 1   location       254634 non-null  object \n",
      " 2   sale_amount    254634 non-null  float64\n",
      "dtypes: float64(1), object(2)\n",
      "memory usage: 7.8+ MB\n"
     ]
    }
   ],
   "source": [
    "## Select columns related to location\n",
    "location_data = cres_denulled.iloc[:, [2,13,6]].dropna()\n",
    "location_data.info()"
   ]
  },
  {
   "cell_type": "markdown",
   "metadata": {},
   "source": [
    "### Clean the location data"
   ]
  },
  {
   "cell_type": "code",
   "execution_count": 25,
   "metadata": {},
   "outputs": [
    {
     "name": "stdout",
     "output_type": "stream",
     "text": [
      "<class 'pandas.core.frame.DataFrame'>\n",
      "Index: 254634 entries, 2 to 1054152\n",
      "Data columns (total 3 columns):\n",
      " #   Column       Non-Null Count   Dtype  \n",
      "---  ------       --------------   -----  \n",
      " 0   latitude     254634 non-null  float64\n",
      " 1   longitude    254634 non-null  float64\n",
      " 2   sale_amount  254634 non-null  float64\n",
      "dtypes: float64(3)\n",
      "memory usage: 7.8 MB\n"
     ]
    }
   ],
   "source": [
    "# write a function to extract lat and long columns\n",
    "def lat_long_extraction(location = location_data['location']):\n",
    "    location = location[7:-1]\n",
    "    latitude,longitude = location.split()\n",
    "    return float(latitude), float(longitude)\n",
    "\n",
    "location_data['latitude'],location_data['longitude'] = zip(*location_data['location'].apply(lat_long_extraction))\n",
    "location_data = location_data[['latitude','longitude','sale_amount']]\n",
    "location_data.info()"
   ]
  },
  {
   "cell_type": "markdown",
   "metadata": {},
   "source": [
    "### Data type conversion"
   ]
  },
  {
   "cell_type": "code",
   "execution_count": 26,
   "metadata": {},
   "outputs": [
    {
     "name": "stdout",
     "output_type": "stream",
     "text": [
      "<class 'pandas.core.frame.DataFrame'>\n",
      "Index: 1054032 entries, 0 to 1054158\n",
      "Data columns (total 8 columns):\n",
      " #   Column          Non-Null Count    Dtype         \n",
      "---  ------          --------------    -----         \n",
      " 0   serial_number   1054032 non-null  int32         \n",
      " 1   list_year       1054032 non-null  int32         \n",
      " 2   date_recorded   1054032 non-null  datetime64[ns]\n",
      " 3   town            1054032 non-null  object        \n",
      " 4   address         1054032 non-null  object        \n",
      " 5   assessed_value  1054032 non-null  int32         \n",
      " 6   sale_amount     1054032 non-null  int32         \n",
      " 7   sales_ratio     1054032 non-null  float32       \n",
      "dtypes: datetime64[ns](1), float32(1), int32(4), object(2)\n",
      "memory usage: 52.3+ MB\n"
     ]
    }
   ],
   "source": [
    "## Sales data\n",
    "sales_data = (sales_data\n",
    "              .assign(\n",
    "                  serial_number = sales_data.serial_number.astype('int32'),\n",
    "                  address = sales_data.address.str.title(),\n",
    "                  list_year = sales_data.list_year.astype('int32'),\n",
    "                  date_recorded = lambda x: pd.to_datetime(x.date_recorded),\n",
    "                  assessed_value = sales_data.assessed_value.astype('int32'),\n",
    "                  sale_amount = sales_data.sale_amount.astype('int32'),\n",
    "                  sales_ratio = sales_data.sales_ratio.astype('float32').round(2)\n",
    "                  )\n",
    "              )\n",
    "sales_data.info()"
   ]
  },
  {
   "cell_type": "code",
   "execution_count": 27,
   "metadata": {},
   "outputs": [
    {
     "name": "stdout",
     "output_type": "stream",
     "text": [
      "<class 'pandas.core.frame.DataFrame'>\n",
      "Index: 660262 entries, 1 to 1054157\n",
      "Data columns (total 6 columns):\n",
      " #   Column            Non-Null Count   Dtype         \n",
      "---  ------            --------------   -----         \n",
      " 0   serial_number     660262 non-null  int32         \n",
      " 1   date_recorded     660262 non-null  datetime64[ns]\n",
      " 2   town              660262 non-null  object        \n",
      " 3   property_type     660262 non-null  object        \n",
      " 4   residential_type  660262 non-null  object        \n",
      " 5   sale_amount       660262 non-null  int32         \n",
      "dtypes: datetime64[ns](1), int32(2), object(3)\n",
      "memory usage: 30.2+ MB\n"
     ]
    }
   ],
   "source": [
    "## property data\n",
    "property_data = (property_data\n",
    "                 .assign(\n",
    "                     serial_number = property_data.serial_number.astype('int32'),\n",
    "                     date_recorded = lambda x: pd.to_datetime(x.date_recorded),\n",
    "                     sale_amount = property_data.sale_amount.astype('int32')\n",
    "                     )\n",
    "                 )\n",
    "property_data.info()"
   ]
  },
  {
   "cell_type": "markdown",
   "metadata": {},
   "source": [
    "### Export data"
   ]
  },
  {
   "cell_type": "code",
   "execution_count": 28,
   "metadata": {},
   "outputs": [],
   "source": [
    "property_data.to_csv('property_data.csv', index=False)\n",
    "sales_data.to_csv('sales_data.csv', index=False)\n",
    "location_data.to_csv('location_data.csv', index=False)"
   ]
  }
 ],
 "metadata": {
  "kernelspec": {
   "display_name": "Python 3",
   "language": "python",
   "name": "python3"
  },
  "language_info": {
   "codemirror_mode": {
    "name": "ipython",
    "version": 3
   },
   "file_extension": ".py",
   "mimetype": "text/x-python",
   "name": "python",
   "nbconvert_exporter": "python",
   "pygments_lexer": "ipython3",
   "version": "3.12.2"
  }
 },
 "nbformat": 4,
 "nbformat_minor": 2
}
